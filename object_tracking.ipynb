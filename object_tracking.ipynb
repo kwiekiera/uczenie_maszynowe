{
 "cells": [
  {
   "cell_type": "code",
   "execution_count": 1,
   "id": "2b6ce02a",
   "metadata": {},
   "outputs": [],
   "source": [
    "import mediapipe as mp\n",
    "import cv2\n",
    "from matplotlib import pyplot as plt"
   ]
  },
  {
   "cell_type": "code",
   "execution_count": 2,
   "id": "ae75afc9",
   "metadata": {},
   "outputs": [],
   "source": [
    "mp_holistic = mp.solutions.holistic # Model do rozpoznawania\n",
    "mp_drawing = mp.solutions.drawing_utils # Do rysowania"
   ]
  },
  {
   "cell_type": "code",
   "execution_count": 3,
   "id": "e6db0f6d",
   "metadata": {},
   "outputs": [],
   "source": [
    "def rozpoznawanie(obraz, model):\n",
    "    obraz = cv2.cvtColor(obraz, cv2.COLOR_BGR2RGB) # konwersja kolorów z BGR na RGB\n",
    "    obraz.flags.writeable = False                  # dla oszczędności pamięci\n",
    "    wynik = model.process(obraz)                 # Predykcja\n",
    "    obraz.flags.writeable = True                   \n",
    "    obraz = cv2.cvtColor(obraz, cv2.COLOR_RGB2BGR) # konwersja kolorów z RGB na BGR\n",
    "    return obraz, wynik"
   ]
  },
  {
   "cell_type": "code",
   "execution_count": 4,
   "id": "7d09779f",
   "metadata": {},
   "outputs": [],
   "source": [
    "def szkielet(obraz, wyniki):\n",
    "    # Lewa ręka\n",
    "    mp_drawing.draw_landmarks(obraz, wyniki.left_hand_landmarks, mp_holistic.HAND_CONNECTIONS, \n",
    "                             mp_drawing.DrawingSpec(color=(121,22,76), thickness=2, circle_radius=4), \n",
    "                             mp_drawing.DrawingSpec(color=(121,44,250), thickness=2, circle_radius=2)\n",
    "                             ) \n",
    "    # Prawa ręka \n",
    "    mp_drawing.draw_landmarks(obraz, wyniki.right_hand_landmarks, mp_holistic.HAND_CONNECTIONS, \n",
    "                             mp_drawing.DrawingSpec(color=(245,117,66), thickness=2, circle_radius=4), \n",
    "                             mp_drawing.DrawingSpec(color=(245,66,230), thickness=2, circle_radius=2)\n",
    "                             ) "
   ]
  },
  {
   "cell_type": "code",
   "execution_count": 5,
   "id": "44757b0f",
   "metadata": {},
   "outputs": [],
   "source": [
    "cap = cv2.VideoCapture(0)\n",
    "# mediapipe model, holistic wykonuje rozpoznawanie wstępne (detection), następnie śledzi keypointy (tracking)\n",
    "with mp_holistic.Holistic() as holistic:\n",
    "    while cap.isOpened():\n",
    "\n",
    "        # Wczytaj\n",
    "        wartosc, klatka = cap.read()\n",
    "\n",
    "        # Rozpoznaj\n",
    "        obraz, wyniki = rozpoznawanie(klatka, holistic)\n",
    "        \n",
    "        # Narysuj szkielet\n",
    "        szkielet(obraz, wyniki)\n",
    "\n",
    "        # Pokaz z odbiciem lustrzanym\n",
    "        obraz = cv2.flip(obraz, 1)\n",
    "        cv2.imshow('Obraz', obraz)\n",
    "\n",
    "        # Wyjscie\n",
    "        if cv2.waitKey(10) & 0xFF == ord('q'):\n",
    "            break\n",
    "    cap.release()\n",
    "    cv2.destroyAllWindows()"
   ]
  },
  {
   "cell_type": "code",
   "execution_count": null,
   "id": "73ab8a08",
   "metadata": {},
   "outputs": [],
   "source": [
    "szkielet(klatka, wyniki)\n",
    "plt.imshow(cv2.cvtColor(klatka, cv2.COLOR_BGR2RGB))"
   ]
  }
 ],
 "metadata": {
  "kernelspec": {
   "display_name": "base",
   "language": "python",
   "name": "python3"
  },
  "language_info": {
   "codemirror_mode": {
    "name": "ipython",
    "version": 3
   },
   "file_extension": ".py",
   "mimetype": "text/x-python",
   "name": "python",
   "nbconvert_exporter": "python",
   "pygments_lexer": "ipython3",
   "version": "3.8.8"
  },
  "vscode": {
   "interpreter": {
    "hash": "5a782e78c516a0591e27701d1f830b917a27108ff0d49951d1f9790dfad5ff2a"
   }
  }
 },
 "nbformat": 4,
 "nbformat_minor": 5
}
